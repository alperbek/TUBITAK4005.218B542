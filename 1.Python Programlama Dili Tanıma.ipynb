{
 "cells": [
  {
   "cell_type": "code",
   "execution_count": null,
   "metadata": {},
   "outputs": [],
   "source": [
    "#Değişkenleri tanımla\n",
    "mesaj = \"Merhaba Dünya\"\n",
    "plaka = 35\n",
    "boy = 1.85\n",
    "veriBiliminiSeviyorum = (1 == True)"
   ]
  },
  {
   "cell_type": "code",
   "execution_count": null,
   "metadata": {},
   "outputs": [],
   "source": [
    "#mesaj değişken değerini yazdır\n",
    "print(\"Mesaj: \", mesaj)\n",
    "#Çıktı: Mesaj:  Merhaba Dünya"
   ]
  },
  {
   "cell_type": "code",
   "execution_count": null,
   "metadata": {},
   "outputs": [],
   "source": [
    "#veriBiliminiSeviyorum değişkenini yazdır\n",
    "print(veriBiliminiSeviyorum)\n",
    "#Çıktı: True"
   ]
  },
  {
   "cell_type": "code",
   "execution_count": null,
   "metadata": {},
   "outputs": [],
   "source": [
    "#Tek satırda birden fazla değişkene değer atama\n",
    "plaka, boy  = 35, 1.85"
   ]
  },
  {
   "cell_type": "code",
   "execution_count": null,
   "metadata": {},
   "outputs": [],
   "source": [
    "print(type(mesaj), type(plaka), type(boy), type(veriBiliminiSeviyorum))\n",
    "#Çıktı: <class 'str'> <class 'int'> <class 'float'> <class 'bool'>"
   ]
  },
  {
   "cell_type": "code",
   "execution_count": null,
   "metadata": {},
   "outputs": [],
   "source": [
    "renkListesi = [\"sarı\",\"kırmızı\", \"siyah\", \"beyaz\", \"bordo\", \"mavi\"]"
   ]
  },
  {
   "cell_type": "code",
   "execution_count": null,
   "metadata": {},
   "outputs": [],
   "source": [
    "renkListesi[0] #sarı"
   ]
  },
  {
   "cell_type": "code",
   "execution_count": null,
   "metadata": {},
   "outputs": [],
   "source": [
    "renkListesi[5] #mavi"
   ]
  },
  {
   "cell_type": "code",
   "execution_count": null,
   "metadata": {},
   "outputs": [],
   "source": [
    "renkListesi[-1] #mavi"
   ]
  },
  {
   "cell_type": "code",
   "execution_count": null,
   "metadata": {},
   "outputs": [],
   "source": [
    "renkListesi[-3] #beyaz"
   ]
  },
  {
   "cell_type": "code",
   "execution_count": null,
   "metadata": {},
   "outputs": [],
   "source": [
    "renkListesi[::] #['sarı', 'kırmızı', 'siyah', 'beyaz', 'bordo', 'mavi']"
   ]
  },
  {
   "cell_type": "code",
   "execution_count": null,
   "metadata": {},
   "outputs": [],
   "source": [
    "renkListesi[1::1] #['kırmızı', 'siyah', 'beyaz', 'bordo', 'mavi']"
   ]
  },
  {
   "cell_type": "code",
   "execution_count": null,
   "metadata": {},
   "outputs": [],
   "source": [
    "renkListesi[1::2] #['kırmızı', 'beyaz', 'mavi']"
   ]
  },
  {
   "cell_type": "code",
   "execution_count": null,
   "metadata": {},
   "outputs": [],
   "source": [
    "renkListesi[:4] #['sarı', 'kırmızı', 'siyah', 'beyaz']"
   ]
  },
  {
   "cell_type": "code",
   "execution_count": null,
   "metadata": {},
   "outputs": [],
   "source": [
    "renkListesi[::-1] #['mavi', 'bordo', 'beyaz', 'siyah', 'kırmızı', 'sarı']"
   ]
  },
  {
   "cell_type": "code",
   "execution_count": null,
   "metadata": {},
   "outputs": [],
   "source": [
    "renkListesi[:2:-1] #['mavi', 'bordo', 'beyaz']"
   ]
  },
  {
   "cell_type": "code",
   "execution_count": null,
   "metadata": {},
   "outputs": [],
   "source": [
    "renkListesi[0:2] = ['sarı', 'lacivert'] "
   ]
  },
  {
   "cell_type": "code",
   "execution_count": null,
   "metadata": {},
   "outputs": [],
   "source": [
    "renkListesi #['sarı', 'lacivert', 'siyah', 'beyaz', 'bordo', 'mavi']"
   ]
  },
  {
   "cell_type": "code",
   "execution_count": null,
   "metadata": {},
   "outputs": [],
   "source": [
    "renkListesi.append('yeşil')\n",
    "renkListesi #['sarı', 'lacivert', 'siyah', 'beyaz', 'bordo', 'mavi', 'yeşil']"
   ]
  },
  {
   "cell_type": "code",
   "execution_count": null,
   "metadata": {},
   "outputs": [],
   "source": [
    "renkListesi.remove('siyah')\n",
    "renkListesi #['sarı', 'lacivert', 'beyaz', 'bordo', 'mavi', 'yeşil']"
   ]
  },
  {
   "cell_type": "code",
   "execution_count": null,
   "metadata": {},
   "outputs": [],
   "source": [
    "renkListesi = renkListesi + ['turuncu']\n",
    "renkListesi #['sarı', 'lacivert', 'beyaz', 'bordo', 'mavi', 'yeşil', 'turuncu']"
   ]
  },
  {
   "cell_type": "code",
   "execution_count": null,
   "metadata": {},
   "outputs": [],
   "source": [
    "#liste metotları"
   ]
  },
  {
   "cell_type": "code",
   "execution_count": null,
   "metadata": {},
   "outputs": [],
   "source": [
    "renkListesi.reverse()\n",
    "renkListesi #['turuncu', 'yeşil', 'mavi', 'bordo', 'beyaz', 'lacivert', 'sarı']"
   ]
  },
  {
   "cell_type": "code",
   "execution_count": null,
   "metadata": {},
   "outputs": [],
   "source": [
    "renkListesi.sort()\n",
    "renkListesi #['beyaz', 'bordo', 'lacivert', 'mavi', 'sarı', 'turuncu', 'turuncu', 'yeşil']"
   ]
  },
  {
   "cell_type": "code",
   "execution_count": null,
   "metadata": {},
   "outputs": [],
   "source": [
    "#sözlük kullanımı\n",
    "notlar = {\n",
    "    \"0001-Ada\": 83,\n",
    "    \"0002-Cem\": 79,\n",
    "    \"0003-Sibel\" : 82 \n",
    "}\n",
    "\n",
    "#sözlük elemanına erişim\n",
    "notlar[\"0001-Ada\"] #83"
   ]
  },
  {
   "cell_type": "code",
   "execution_count": null,
   "metadata": {},
   "outputs": [],
   "source": [
    "#sözlüğe yeni eleman ekle\n",
    "notlar[\"0004-Nil\"] = 99\n",
    "notlar #{'0001-Ada': 83, '0002-Cem': 79, '0003-Sibel': 82, '0004-Nil': 99}"
   ]
  },
  {
   "cell_type": "code",
   "execution_count": null,
   "metadata": {},
   "outputs": [],
   "source": [
    "#sözlükteki elemanı sil\n",
    "del(notlar[\"0001-Ada\"])\n",
    "notlar #{'0002-Cem': 79, '0003-Sibel': 82, '0004-Nil': 99}"
   ]
  },
  {
   "cell_type": "code",
   "execution_count": null,
   "metadata": {},
   "outputs": [],
   "source": [
    "(\"0004-Nil\" in notlar) #True"
   ]
  },
  {
   "cell_type": "code",
   "execution_count": null,
   "metadata": {},
   "outputs": [],
   "source": [
    "#sözlük metotları"
   ]
  },
  {
   "cell_type": "code",
   "execution_count": null,
   "metadata": {},
   "outputs": [],
   "source": [
    "notlar.keys() #dict_keys(['0002-Cem', '0003-Sibel', '0004-Nil'])"
   ]
  },
  {
   "cell_type": "code",
   "execution_count": null,
   "metadata": {},
   "outputs": [],
   "source": [
    "notlar.items() #dict_items([('0002-Cem', 79), ('0003-Sibel', 82), ('0004-Nil', 99)])"
   ]
  },
  {
   "cell_type": "code",
   "execution_count": null,
   "metadata": {},
   "outputs": [],
   "source": [
    "notlar.values() #dict_values([79, 82, 99])"
   ]
  },
  {
   "cell_type": "code",
   "execution_count": null,
   "metadata": {},
   "outputs": [],
   "source": [
    "#Referans tür örneği (yöntem 1)\n",
    "sayilar = [1, 2, 3, 4, 5, 6, 7, 8, 9, 10]"
   ]
  },
  {
   "cell_type": "code",
   "execution_count": null,
   "metadata": {},
   "outputs": [],
   "source": [
    "#yanlış bir liste kopyalama yöntemi\n",
    "kopya_sayilar = sayilar"
   ]
  },
  {
   "cell_type": "code",
   "execution_count": null,
   "metadata": {},
   "outputs": [],
   "source": [
    "#aşağıdaki değişiklik sadece kopya_sayilar nesnesinde mi yapılıyor?\n",
    "kopya_sayilar[0] = 99"
   ]
  },
  {
   "cell_type": "code",
   "execution_count": null,
   "metadata": {},
   "outputs": [],
   "source": [
    "#her iki nesnenin de 0 indisli elemanı değişti\n",
    "print(\"sayilar:\", sayilar) #sayilar: [99, 2, 3, 4, 5, 6, 7, 8, 9, 10]\n",
    "print(\"kopya_sayilar:\",kopya_sayilar) #kopya_sayilar: [99, 2, 3, 4, 5, 6, 7, 8, 9, 10]"
   ]
  },
  {
   "cell_type": "code",
   "execution_count": null,
   "metadata": {},
   "outputs": [],
   "source": [
    "#liste kopyalama için diğer yöntem (yöntem 2)\n",
    "sayilar = [1, 2, 3, 4, 5, 6, 7, 8, 9, 10]\n",
    "#legal kopyalama yöntemi\n",
    "kopya_sayilar = sayilar[::] #kopya_sayilar = list(sayilar)"
   ]
  },
  {
   "cell_type": "code",
   "execution_count": null,
   "metadata": {},
   "outputs": [],
   "source": [
    "#her iki nesnenin de 0 indisli elemanı değişiyor mu?\n",
    "kopya_sayilar[0] = 99\n",
    "print(\"sayilar:\", sayilar) #sayilar: [1, 2, 3, 4, 5, 6, 7, 8, 9, 10]\n",
    "print(\"kopya_sayilar:\",kopya_sayilar) #kopya_sayilar: [99, 2, 3, 4, 5, 6, 7, 8, 9, 10]"
   ]
  },
  {
   "cell_type": "code",
   "execution_count": null,
   "metadata": {},
   "outputs": [],
   "source": [
    "#fonksiyon tanimi\n",
    "def kabarcikSiralama(dizi):\n",
    "    eleman_sayisi = len(dizi)\n",
    "    #Tüm elemanları dön\n",
    "    for i in range(eleman_sayisi):\n",
    "        for j in range(0, eleman_sayisi - i - 1):\n",
    "            #Yer değiştirme\n",
    "            if dizi[j] > dizi[j+1] :\n",
    "                dizi[j], dizi[j+1] = dizi[j+1], dizi[j]"
   ]
  },
  {
   "cell_type": "code",
   "execution_count": null,
   "metadata": {},
   "outputs": [],
   "source": [
    "#fonksiyon kullanimi\n",
    "sayilar = [3, 12, 9, 4, 5, 8, 11, 14, 2, 1]"
   ]
  },
  {
   "cell_type": "code",
   "execution_count": null,
   "metadata": {},
   "outputs": [],
   "source": [
    "kabarcikSiralama(sayilar)\n",
    "for i in range(len(sayilar)):\n",
    "    print (\"%d\" %sayilar[i]), "
   ]
  },
  {
   "cell_type": "code",
   "execution_count": null,
   "metadata": {},
   "outputs": [],
   "source": [
    "import numpy as np\n",
    "\n",
    "#Dizi oluşturma\n",
    "d1 = np.array([5.5,9,10])\n",
    "d2 = np.array([(3.5,8,11), (4,7,9), (2,2,1.1)], dtype=float)\n",
    "\n",
    "#Fark alma 1. Yöntem\n",
    "d3 = d2 - d1\n",
    "print(\"Fark 1 / d3 --> \", d3)\n",
    "\n",
    "#Fark alma 2. Yöntem\n",
    "d3 = np.subtract(d1, d2) \n",
    "print(\"Fark 2 / d3 --> \", d3)\n",
    "\n",
    "#d1 ve d2'yi toplayıp d1 üzerine yazma\n",
    "d1 = d1 + d2\n",
    "print(\"Toplam d1 --> \", d1)\n",
    "d1\n",
    "\n"
   ]
  },
  {
   "cell_type": "code",
   "execution_count": null,
   "metadata": {},
   "outputs": [],
   "source": [
    "#Değeri 9'dan büyük elemanların indislerini bul\n",
    "sonuc = d1 > 9\n",
    "print(sonuc)\n",
    "\n"
   ]
  },
  {
   "cell_type": "code",
   "execution_count": null,
   "metadata": {},
   "outputs": [],
   "source": [
    "\n",
    "#Bulunan indisleri kullanarak, elemanları ekranra yazdır\n",
    "print(\"9'dan büyük elemanlar -->\", d1[sonuc])"
   ]
  },
  {
   "cell_type": "code",
   "execution_count": null,
   "metadata": {},
   "outputs": [],
   "source": [
    "#İki matrisin çarpımı\n",
    "d4 = np.dot(d1, d2)\n",
    "print(\"Çarpım d4:\", d4)\n",
    "\n",
    "#Matristen 1.sütunu çıkartma\n",
    "d4 = np.delete(d4,0,1)\n",
    "print(\"Çıkartma d4:\", d4)"
   ]
  },
  {
   "cell_type": "code",
   "execution_count": null,
   "metadata": {},
   "outputs": [],
   "source": [
    "#2x5’lik sıfır matrisi yaratma\n",
    "SifirMatrisi = np.zeros([2,5])"
   ]
  },
  {
   "cell_type": "code",
   "execution_count": null,
   "metadata": {},
   "outputs": [],
   "source": [
    "#Dizideki en küçük eleman bulma\n",
    "print(\"d4 min:\", np.min(d4))\n",
    "\n",
    "#Dizideki en büyük eleman bulma\n",
    "print(\"d4 max:\", np.max(d4))\n",
    "\n",
    "#Dizinin ortalamasını alma\n",
    "print(\"d4 ortalama:\", d4.mean())\n",
    "\n",
    "#Dizinin toplamını bulma\n",
    "print(\"d4 toplam:\", d4.sum())\n",
    "\n",
    "#Karekök alma\n",
    "print(\"d4 karekök-->\", np.sqrt(d4))\n",
    "\n",
    "#Dizinin logaritmasını hesaplama\n",
    "print(\"d4 logaritma-->\", np.log(d4))\n",
    "\n",
    "#Tranpoz alma\n",
    "print(\"d4 transpoz:\", np.transpose(d4))"
   ]
  },
  {
   "cell_type": "code",
   "execution_count": null,
   "metadata": {},
   "outputs": [],
   "source": [
    "list1 = [1, 2, 3, 4, 5, 6]\n",
    "list2 = [i/2 for i in list1]\n",
    "print(list2) #[0.5, 1.0, 1.5, 2.0, 2.5, 3.0]"
   ]
  },
  {
   "cell_type": "code",
   "execution_count": null,
   "metadata": {},
   "outputs": [],
   "source": [
    "x, y = 5, 5\n",
    "if (x > y):\n",
    "    print(\"x > y\")\n",
    "elif (y > x):\n",
    "    print(\"y > x\")\n",
    "else:\n",
    "    print(\"y = x\")"
   ]
  },
  {
   "cell_type": "code",
   "execution_count": null,
   "metadata": {},
   "outputs": [],
   "source": [
    "#while döngüsü\n",
    "kosul, j = True, 0\n",
    "while (kosul):\n",
    "    print(j)\n",
    "    j += 1\n",
    "    kosul = (j != 5)\n",
    "#çıktı: 0, 1, 2, 3, 4\n",
    "\n",
    "#for döngüsü\n",
    "for i in range(0, 5):\n",
    "    print(i)\n",
    "#çıktı: 0, 1, 2, 3, 4"
   ]
  },
  {
   "cell_type": "code",
   "execution_count": null,
   "metadata": {},
   "outputs": [],
   "source": [
    "#lambda fonksiyon 1\n",
    "fnc = lambda x : x + 1\n",
    "print(fnc(1)) #Çıktı: 2\n",
    "print(fnc(fnc(1))) #Çıktı: 3\n",
    "\n",
    "#lambda fonksiyon 2\n",
    "fnc2 = lambda x, y : x + y\n",
    "print(fnc2(4,7)) #Çıktı: 11\n",
    "print(fnc2(4,fnc(1))) #Çıktı: 6"
   ]
  },
  {
   "cell_type": "code",
   "execution_count": null,
   "metadata": {},
   "outputs": [],
   "source": [
    "#lamba fonksiyon içeren fonksiyon tanımları\n",
    "def fnc3(n):\n",
    "  return lambda x : x ** n\n",
    "\n",
    "fnc_kare_al = fnc3(2) #Dinamik kare alma fonksiyonu oluşturuluyor\n",
    "fnc_kup_al = fnc3(3) #Dinamik küp alma fonksiyonu oluşturuluyor\n",
    "\n",
    "print(fnc_kare_al(3))\n",
    "print(fnc_kup_al(3))"
   ]
  },
  {
   "cell_type": "code",
   "execution_count": null,
   "metadata": {},
   "outputs": [],
   "source": [
    "import pandas as pd\n",
    "data = [\n",
    "        ['D1', 'Sunny','Hot', 'High', 'Weak', 'No'],\n",
    "        ['D2', 'Sunny','Hot', 'High', 'Strong', 'No'],\n",
    "        ['D3', 'Overcast','Hot', 'High', 'Weak', 'Yes'],\n",
    "        ['D4', 'Rain','Mild', 'High', 'Weak', 'Yes'],\n",
    "        ['D5', 'Rain','Cool', 'Normal', 'Weak', 'Yes'],\n",
    "        ['D6', 'Rain','Cool', 'Normal', 'Strong', 'No'],\n",
    "        ['D7', 'Overcast','Cool', 'Normal', 'Strong', 'Yes'],\n",
    "        ['D8', 'Sunny','Mild', 'High', 'Weak', 'Yes'],\n",
    "        ['D9', 'Sunny','Cool', 'Normal', 'Weak', 'No'],\n",
    "        ['D10', 'Rain','Mild', 'Normal', 'Weak', 'Yes'],\n",
    "        ['D11', 'Sunny','Mild', 'Normal', 'Strong', 'Yes'],\n",
    "        ['D12', 'Overcast','Mild', 'High', 'Strong', 'No'],\n",
    "        ['D13', 'Overcast','Hot', 'Normal', 'Weak', 'Yes'],\n",
    "        ['D14', 'Rain','Mild', 'High', 'Strong', 'No'],\n",
    "       ]\n",
    "df = pd.DataFrame(data,columns=['day', 'outlook', 'temp', 'humidity', 'windy', 'play'])\n",
    "df"
   ]
  },
  {
   "cell_type": "code",
   "execution_count": null,
   "metadata": {},
   "outputs": [],
   "source": [
    "df.info()"
   ]
  },
  {
   "cell_type": "code",
   "execution_count": null,
   "metadata": {},
   "outputs": [],
   "source": [
    "df.min()"
   ]
  },
  {
   "cell_type": "code",
   "execution_count": null,
   "metadata": {},
   "outputs": [],
   "source": [
    "df.max()"
   ]
  },
  {
   "cell_type": "code",
   "execution_count": null,
   "metadata": {},
   "outputs": [],
   "source": [
    "df.shape"
   ]
  },
  {
   "cell_type": "code",
   "execution_count": null,
   "metadata": {},
   "outputs": [],
   "source": [
    "df.describe()"
   ]
  },
  {
   "cell_type": "code",
   "execution_count": null,
   "metadata": {},
   "outputs": [],
   "source": [
    "from sklearn.preprocessing import LabelEncoder\n",
    "lb = LabelEncoder() \n",
    "df['outlook'] = lb.fit_transform(df['outlook']) \n",
    "df['temp'] = lb.fit_transform(df['temp'] ) \n",
    "df['humidity'] = lb.fit_transform(df['humidity'] ) \n",
    "df['windy'] = lb.fit_transform(df['windy'] )   \n",
    "df['play'] = lb.fit_transform(df['play'] ) "
   ]
  },
  {
   "cell_type": "code",
   "execution_count": null,
   "metadata": {},
   "outputs": [],
   "source": [
    "df"
   ]
  },
  {
   "cell_type": "code",
   "execution_count": null,
   "metadata": {},
   "outputs": [],
   "source": [
    "df.describe()"
   ]
  },
  {
   "cell_type": "code",
   "execution_count": null,
   "metadata": {},
   "outputs": [],
   "source": [
    "X = df.iloc[:,1:5] \n",
    "Y = df.iloc[:,5]"
   ]
  },
  {
   "cell_type": "code",
   "execution_count": null,
   "metadata": {},
   "outputs": [],
   "source": [
    "X"
   ]
  },
  {
   "cell_type": "code",
   "execution_count": null,
   "metadata": {},
   "outputs": [],
   "source": [
    "Y"
   ]
  },
  {
   "cell_type": "code",
   "execution_count": null,
   "metadata": {},
   "outputs": [],
   "source": [
    "from sklearn.model_selection import train_test_split\n",
    "from sklearn import metrics\n",
    "from sklearn.naive_bayes import GaussianNB\n",
    "\n",
    "model = GaussianNB()\n",
    "X_train, X_test, Y_train, Y_test = train_test_split(X, Y, test_size = 0.4, random_state = 100)\n",
    "\n",
    "model = model.fit(X_train, Y_train)\n",
    "Y_pred = model.predict(X_test)\n",
    "    \n",
    "#Accuracy değeri \n",
    "print(\" ACC: %%%.2f\" % (metrics.accuracy_score(Y_test, Y_pred)*100))"
   ]
  },
  {
   "cell_type": "code",
   "execution_count": null,
   "metadata": {},
   "outputs": [],
   "source": []
  },
  {
   "cell_type": "code",
   "execution_count": null,
   "metadata": {},
   "outputs": [],
   "source": []
  }
 ],
 "metadata": {
  "kernelspec": {
   "display_name": "Python 3",
   "language": "python",
   "name": "python3"
  },
  "language_info": {
   "codemirror_mode": {
    "name": "ipython",
    "version": 3
   },
   "file_extension": ".py",
   "mimetype": "text/x-python",
   "name": "python",
   "nbconvert_exporter": "python",
   "pygments_lexer": "ipython3",
   "version": "3.7.3"
  }
 },
 "nbformat": 4,
 "nbformat_minor": 2
}
